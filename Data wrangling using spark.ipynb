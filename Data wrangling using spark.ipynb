{
 "cells": [
  {
   "cell_type": "code",
   "execution_count": 1,
   "id": "ranging-blake",
   "metadata": {},
   "outputs": [],
   "source": [
    "import os\n",
    "import numpy as np\n",
    "import pandas as pd\n",
    "import matplotlib.pyplot as plt\n",
    "import warnings\n",
    "import pyspark"
   ]
  },
  {
   "cell_type": "markdown",
   "id": "handed-throat",
   "metadata": {},
   "source": [
    "#### Location of files"
   ]
  },
  {
   "cell_type": "code",
   "execution_count": 7,
   "id": "vulnerable-precipitation",
   "metadata": {},
   "outputs": [],
   "source": [
    "file_names=['movies_metadata.csv','ratings_small.csv','links_small.csv','keywords.csv']\n",
    "folder_name='./data/movies_40k'\n",
    "comp='./data/movies_40k.zip'"
   ]
  },
  {
   "cell_type": "markdown",
   "id": "hairy-patrol",
   "metadata": {},
   "source": [
    "### Creating Spark Session object"
   ]
  },
  {
   "cell_type": "code",
   "execution_count": 8,
   "id": "characteristic-purchase",
   "metadata": {},
   "outputs": [],
   "source": [
    "warnings.filterwarnings('ignore')\n",
    "conf=pyspark.SparkConf().setMaster('local[*]')\n",
    "spark=pyspark.sql.SparkSession.builder.config(conf=conf).getOrCreate()"
   ]
  },
  {
   "cell_type": "markdown",
   "id": "welsh-classification",
   "metadata": {},
   "source": [
    "### Loading up data"
   ]
  },
  {
   "cell_type": "markdown",
   "id": "radical-billion",
   "metadata": {},
   "source": [
    "To prevent data from shuffling we first load data through pandas and then convert it into pyspark dataframe"
   ]
  },
  {
   "cell_type": "code",
   "execution_count": 9,
   "id": "powerful-diamond",
   "metadata": {},
   "outputs": [],
   "source": [
    "req_columns=['id','title','release_date','genres','vote_average','popularity','vote_count','imdb_id']\n",
    "df_pd=pd.read_csv(folder_name+'/'+file_names[0])\n",
    "df_pd=df_pd[req_columns]"
   ]
  },
  {
   "cell_type": "markdown",
   "id": "recent-equity",
   "metadata": {},
   "source": [
    "### Creating schema for our data using Struct Type"
   ]
  },
  {
   "cell_type": "code",
   "execution_count": 10,
   "id": "responsible-episode",
   "metadata": {},
   "outputs": [
    {
     "name": "stdout",
     "output_type": "stream",
     "text": [
      "root\n",
      " |-- id: integer (nullable = true)\n",
      " |-- title: string (nullable = true)\n",
      " |-- release_date: string (nullable = true)\n",
      " |-- genres: string (nullable = true)\n",
      " |-- vote_average: double (nullable = true)\n",
      " |-- popularity: double (nullable = true)\n",
      " |-- vote_count: float (nullable = true)\n",
      " |-- imdb_id: string (nullable = true)\n",
      "\n"
     ]
    }
   ],
   "source": [
    "from pyspark.sql.types import *\n",
    "struct=[StructField(req_columns[0],StringType(),False),StructField(req_columns[1],StringType(),True),\\\n",
    "       StructField(req_columns[2],StringType(),True),StructField(req_columns[3],StringType(),True),\\\n",
    "       StructField(req_columns[4],DoubleType(),True),StructField(req_columns[5],DoubleType(),True),\\\n",
    "       StructField(req_columns[6],FloatType(),True),StructField(req_columns[7],StringType(),True)]\n",
    "schema=StructType(fields=struct)\n",
    "df=spark.createDataFrame(df_pd,schema=schema,verifySchema=False)\n",
    "df=df.withColumn('id',df.id.cast('int'))\n",
    "df.printSchema()"
   ]
  },
  {
   "cell_type": "markdown",
   "id": "tested-destruction",
   "metadata": {},
   "source": [
    "### Checking number of partitions of created dataframe"
   ]
  },
  {
   "cell_type": "code",
   "execution_count": 11,
   "id": "attractive-polish",
   "metadata": {},
   "outputs": [
    {
     "name": "stdout",
     "output_type": "stream",
     "text": [
      "Number of Partitions:  8\n"
     ]
    }
   ],
   "source": [
    "print('Number of Partitions: ',df.rdd.getNumPartitions())"
   ]
  },
  {
   "cell_type": "markdown",
   "id": "forty-schedule",
   "metadata": {},
   "source": [
    "### Checking NaN values"
   ]
  },
  {
   "cell_type": "code",
   "execution_count": 12,
   "id": "moving-lounge",
   "metadata": {},
   "outputs": [
    {
     "name": "stdout",
     "output_type": "stream",
     "text": [
      "Counting na values using pandas : \n",
      " id               0\n",
      "title            6\n",
      "release_date    87\n",
      "genres           0\n",
      "vote_average     6\n",
      "popularity       5\n",
      "vote_count       6\n",
      "imdb_id         17\n",
      "dtype: int64\n"
     ]
    }
   ],
   "source": [
    "print('Counting na values using pandas : \\n',df_pd.isna().sum())"
   ]
  },
  {
   "cell_type": "code",
   "execution_count": 13,
   "id": "raising-pride",
   "metadata": {},
   "outputs": [
    {
     "name": "stdout",
     "output_type": "stream",
     "text": [
      "Counting na values using pyspark :\n",
      " {'id': 0, 'title': 6, 'release_date': 87, 'genres': 0, 'vote_average': 6, 'popularity': 5, 'vote_count': 6, 'imdb_id': 17}\n"
     ]
    }
   ],
   "source": [
    "from pyspark.sql.functions import isnan\n",
    "count=lambda x:{col: df.filter(isnan(df[col])).count() for col in x}\n",
    "\n",
    "print('Counting na values using pyspark :\\n',count(df.columns))"
   ]
  },
  {
   "cell_type": "markdown",
   "id": "genuine-husband",
   "metadata": {},
   "source": [
    "### Filtering data"
   ]
  },
  {
   "cell_type": "code",
   "execution_count": 15,
   "id": "provincial-football",
   "metadata": {},
   "outputs": [],
   "source": [
    "df=df.filter(~(isnan(df.imdb_id) | isnan(df.title) | isnan(df.release_date)))"
   ]
  },
  {
   "cell_type": "markdown",
   "id": "perceived-limitation",
   "metadata": {},
   "source": [
    "### Preparing data"
   ]
  },
  {
   "cell_type": "code",
   "execution_count": 17,
   "id": "smaller-german",
   "metadata": {},
   "outputs": [],
   "source": [
    "from pyspark.sql.functions import udf\n",
    "\n",
    "@udf\n",
    "def extract_genre(row):\n",
    "    row=eval(row)\n",
    "    genre=''\n",
    "    for dic in row:\n",
    "        genre+=dic['name']+'-' \n",
    "    return genre[0:-1]\n",
    "df=df.withColumn('genres',extract_genre(df.genres))"
   ]
  },
  {
   "cell_type": "code",
   "execution_count": 18,
   "id": "medieval-tuesday",
   "metadata": {},
   "outputs": [],
   "source": [
    "date=udf(lambda x: eval(x.split('-')[0]),'int') \n",
    "df=df.withColumn('release_date',date(df.release_date))"
   ]
  },
  {
   "cell_type": "markdown",
   "id": "published-possession",
   "metadata": {},
   "source": [
    "### Check for duplicate ids"
   ]
  },
  {
   "cell_type": "code",
   "execution_count": 19,
   "id": "stuck-estate",
   "metadata": {},
   "outputs": [],
   "source": [
    "try:\n",
    "    assert df.select('id').count()==df.select('id').distinct().count()\n",
    "    assert df.select('imdb_id').count()==df.select('imdb_id').distinct().count()\n",
    "except:\n",
    "    df=df.dropDuplicates(['id','imdb_id'])\n",
    "    \n",
    "df.write.csv('./movies_df.csv',sep=',',mode='overwrite',header=True)"
   ]
  },
  {
   "cell_type": "markdown",
   "id": "associate-participation",
   "metadata": {},
   "source": [
    "### Working with SQL queries"
   ]
  },
  {
   "cell_type": "code",
   "execution_count": 20,
   "id": "daily-brunswick",
   "metadata": {},
   "outputs": [
    {
     "name": "stdout",
     "output_type": "stream",
     "text": [
      "+-----+-----+------------+--------------+------------+----------+----------+---------+\n",
      "|   id|title|release_date|        genres|vote_average|popularity|vote_count|  imdb_id|\n",
      "+-----+-----+------------+--------------+------------+----------+----------+---------+\n",
      "|72105|  Ted|        2012|Comedy-Fantasy|         6.3| 19.638605|    4811.0|tt1637725|\n",
      "+-----+-----+------------+--------------+------------+----------+----------+---------+\n",
      "\n"
     ]
    }
   ],
   "source": [
    "df=spark.read.csv('./movies_df.csv',header=True,inferSchema=True)\n",
    "df.createTempView('mov')\n",
    "spark.sql('SELECT * FROM mov where lower(title) like \"ted\"').show()"
   ]
  }
 ],
 "metadata": {
  "kernelspec": {
   "display_name": "Python 3",
   "language": "python",
   "name": "python3"
  },
  "language_info": {
   "codemirror_mode": {
    "name": "ipython",
    "version": 3
   },
   "file_extension": ".py",
   "mimetype": "text/x-python",
   "name": "python",
   "nbconvert_exporter": "python",
   "pygments_lexer": "ipython3",
   "version": "3.7.9"
  }
 },
 "nbformat": 4,
 "nbformat_minor": 5
}
